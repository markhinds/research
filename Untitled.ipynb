{
 "cells": [
  {
   "cell_type": "code",
   "execution_count": 2,
   "metadata": {},
   "outputs": [],
   "source": [
    "from torch.utils.data import DataLoader, Dataset\n",
    "import torchvision.transforms as T\n",
    "import torch\n",
    "import torch.nn as nn\n",
    "from torchvision.utils import make_grid\n",
    "from torchvision.utils import save_image\n",
    "from IPython.display import Image\n",
    "import matplotlib.pyplot as plt\n",
    "import numpy as np\n",
    "import random\n",
    "%matplotlib inline"
   ]
  },
  {
   "cell_type": "code",
   "execution_count": 3,
   "metadata": {},
   "outputs": [
    {
     "ename": "PermissionError",
     "evalue": "[Errno 13] Permission denied: 'C:\\\\Users\\\\hinds\\\\CSResearch\\\\Data\\\\Image'",
     "output_type": "error",
     "traceback": [
      "\u001b[1;31m---------------------------------------------------------------------------\u001b[0m",
      "\u001b[1;31mPermissionError\u001b[0m                           Traceback (most recent call last)",
      "\u001b[1;32m<ipython-input-3-5e883db8bad4>\u001b[0m in \u001b[0;36m<module>\u001b[1;34m\u001b[0m\n\u001b[0;32m      1\u001b[0m \u001b[0mimage_size\u001b[0m \u001b[1;33m=\u001b[0m \u001b[1;36m64\u001b[0m\u001b[1;33m\u001b[0m\u001b[1;33m\u001b[0m\u001b[0m\n\u001b[0;32m      2\u001b[0m \u001b[0mDATA_DIR\u001b[0m \u001b[1;33m=\u001b[0m \u001b[1;34m'C:\\\\Users\\\\hinds\\\\CSResearch\\\\Data\\\\Image'\u001b[0m\u001b[1;33m\u001b[0m\u001b[1;33m\u001b[0m\u001b[0m\n\u001b[1;32m----> 3\u001b[1;33m \u001b[0mX_train\u001b[0m \u001b[1;33m=\u001b[0m \u001b[0mnp\u001b[0m\u001b[1;33m.\u001b[0m\u001b[0mload\u001b[0m\u001b[1;33m(\u001b[0m\u001b[0mDATA_DIR\u001b[0m\u001b[1;33m)\u001b[0m\u001b[1;33m\u001b[0m\u001b[1;33m\u001b[0m\u001b[0m\n\u001b[0m\u001b[0;32m      4\u001b[0m \u001b[0mprint\u001b[0m\u001b[1;33m(\u001b[0m\u001b[1;34mf\"Shape of training data: {X_train.shape}\"\u001b[0m\u001b[1;33m)\u001b[0m\u001b[1;33m\u001b[0m\u001b[1;33m\u001b[0m\u001b[0m\n\u001b[0;32m      5\u001b[0m \u001b[0mprint\u001b[0m\u001b[1;33m(\u001b[0m\u001b[1;34mf\"Data type: {type(X_train)}\"\u001b[0m\u001b[1;33m)\u001b[0m\u001b[1;33m\u001b[0m\u001b[1;33m\u001b[0m\u001b[0m\n",
      "\u001b[1;32m~\\anaconda3\\lib\\site-packages\\numpy\\lib\\npyio.py\u001b[0m in \u001b[0;36mload\u001b[1;34m(file, mmap_mode, allow_pickle, fix_imports, encoding)\u001b[0m\n\u001b[0;32m    426\u001b[0m         \u001b[0mown_fid\u001b[0m \u001b[1;33m=\u001b[0m \u001b[1;32mFalse\u001b[0m\u001b[1;33m\u001b[0m\u001b[1;33m\u001b[0m\u001b[0m\n\u001b[0;32m    427\u001b[0m     \u001b[1;32melse\u001b[0m\u001b[1;33m:\u001b[0m\u001b[1;33m\u001b[0m\u001b[1;33m\u001b[0m\u001b[0m\n\u001b[1;32m--> 428\u001b[1;33m         \u001b[0mfid\u001b[0m \u001b[1;33m=\u001b[0m \u001b[0mopen\u001b[0m\u001b[1;33m(\u001b[0m\u001b[0mos_fspath\u001b[0m\u001b[1;33m(\u001b[0m\u001b[0mfile\u001b[0m\u001b[1;33m)\u001b[0m\u001b[1;33m,\u001b[0m \u001b[1;34m\"rb\"\u001b[0m\u001b[1;33m)\u001b[0m\u001b[1;33m\u001b[0m\u001b[1;33m\u001b[0m\u001b[0m\n\u001b[0m\u001b[0;32m    429\u001b[0m         \u001b[0mown_fid\u001b[0m \u001b[1;33m=\u001b[0m \u001b[1;32mTrue\u001b[0m\u001b[1;33m\u001b[0m\u001b[1;33m\u001b[0m\u001b[0m\n\u001b[0;32m    430\u001b[0m \u001b[1;33m\u001b[0m\u001b[0m\n",
      "\u001b[1;31mPermissionError\u001b[0m: [Errno 13] Permission denied: 'C:\\\\Users\\\\hinds\\\\CSResearch\\\\Data\\\\Image'"
     ]
    }
   ],
   "source": [
    "# image_size = 64\n",
    "# DATA_DIR = 'C:\\\\Users\\\\hinds\\\\CSResearch\\\\Data\\\\Image'\n",
    "# X_train = np.load(DATA_DIR)\n",
    "# print(f\"Shape of training data: {X_train.shape}\")\n",
    "# print(f\"Data type: {type(X_train)}\")"
   ]
  },
  {
   "cell_type": "code",
   "execution_count": null,
   "metadata": {},
   "outputs": [
    {
     "name": "stdout",
     "output_type": "stream",
     "text": [
      "sigma=0.28 prior precision=0.10\n"
     ]
    }
   ],
   "source": [
    "from laplace.baselaplace import FullLaplace\n",
    "from laplace.curvature.backpack import BackPackGGN\n",
    "import numpy as np\n",
    "import torch\n",
    "\n",
    "from laplace import Laplace, marglik_training\n",
    "\n",
    "from helper.dataloaders import get_sinusoid_example\n",
    "from helper.util import plot_regression\n",
    "\n",
    "\n",
    "n_epochs = 1000\n",
    "torch.manual_seed(711)\n",
    "\n",
    "# create toy regression data\n",
    "X_train, y_train, train_loader, X_test = get_sinusoid_example(sigma_noise=0.3)\n",
    "\n",
    "# construct single layer neural network\n",
    "def get_model():\n",
    "    torch.manual_seed(711)\n",
    "    return torch.nn.Sequential(\n",
    "        torch.nn.Linear(1, 50), torch.nn.Tanh(), torch.nn.Linear(50, 1)\n",
    "    )\n",
    "model = get_model()\n",
    "\n",
    "# train MAP\n",
    "criterion = torch.nn.MSELoss()\n",
    "optimizer = torch.optim.Adam(model.parameters(), lr=1e-2)\n",
    "for i in range(n_epochs):\n",
    "    for X, y in train_loader:\n",
    "        optimizer.zero_grad()\n",
    "        loss = criterion(model(X), y)\n",
    "        loss.backward()\n",
    "        optimizer.step()\n",
    "\n",
    "la = Laplace(model, 'regression', subset_of_weights='all', hessian_structure='full')\n",
    "la.fit(train_loader)\n",
    "log_prior, log_sigma = torch.ones(1, requires_grad=True), torch.ones(1, requires_grad=True)\n",
    "hyper_optimizer = torch.optim.Adam([log_prior, log_sigma], lr=1e-1)\n",
    "for i in range(n_epochs):\n",
    "    hyper_optimizer.zero_grad()\n",
    "    neg_marglik = - la.log_marginal_likelihood(log_prior.exp(), log_sigma.exp())\n",
    "    neg_marglik.backward()\n",
    "    hyper_optimizer.step()\n",
    "\n",
    "print(f'sigma={la.sigma_noise.item():.2f}',\n",
    "      f'prior precision={la.prior_precision.item():.2f}')\n",
    "\n",
    "x = X_test.flatten().cpu().numpy()\n",
    "f_mu, f_var = la(X_test)\n",
    "f_mu = f_mu.squeeze().detach().cpu().numpy()\n",
    "f_sigma = f_var.squeeze().sqrt().cpu().numpy()\n",
    "pred_std = np.sqrt(f_sigma**2 + la.sigma_noise.item()**2)\n",
    "\n",
    "plot_regression(X_train, y_train, x, f_mu, pred_std, \n",
    "                file_name='regression_example', plot=False)\n",
    "\n",
    "# alternatively, optimize parameters and hyperparameters of the prior jointly\n",
    "model = get_model()\n",
    "la, model, margliks, losses = marglik_training(\n",
    "    model=model, train_loader=train_loader, likelihood='regression',\n",
    "    hessian_structure='full', backend=BackPackGGN, n_epochs=n_epochs, \n",
    "    optimizer_kwargs={'lr': 1e-2}, prior_structure='scalar'\n",
    ")\n",
    "\n",
    "print(f'sigma={la.sigma_noise.item():.2f}',\n",
    "      f'prior precision={la.prior_precision.numpy()}')\n",
    "\n",
    "f_mu, f_var = la(X_test)\n",
    "f_mu = f_mu.squeeze().detach().cpu().numpy()\n",
    "f_sigma = f_var.squeeze().sqrt().cpu().numpy()\n",
    "pred_std = np.sqrt(f_sigma**2 + la.sigma_noise.item()**2)\n",
    "plot_regression(X_train, y_train, x, f_mu, pred_std, \n",
    "                file_name='regression_example_online', plot=False)"
   ]
  },
  {
   "cell_type": "code",
   "execution_count": null,
   "metadata": {},
   "outputs": [],
   "source": []
  }
 ],
 "metadata": {
  "kernelspec": {
   "display_name": "Python 3",
   "language": "python",
   "name": "python3"
  },
  "language_info": {
   "codemirror_mode": {
    "name": "ipython",
    "version": 3
   },
   "file_extension": ".py",
   "mimetype": "text/x-python",
   "name": "python",
   "nbconvert_exporter": "python",
   "pygments_lexer": "ipython3",
   "version": "3.8.3"
  }
 },
 "nbformat": 4,
 "nbformat_minor": 4
}
